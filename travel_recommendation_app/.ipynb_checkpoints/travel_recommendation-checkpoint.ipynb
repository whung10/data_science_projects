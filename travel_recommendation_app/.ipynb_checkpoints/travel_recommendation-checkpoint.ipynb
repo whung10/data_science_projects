{
 "cells": [
  {
   "cell_type": "markdown",
   "metadata": {},
   "source": [
    "# Travel Destination Recommendation Application\n",
    "\n",
    "### Project Goal\n",
    "1. To recommend travel localtions based on users' requirements\n",
    "2. Prelimilary settings: focusing on flight tickets, budgetary, cost driven\n",
    "3. Extended: hotel prices, weathers, special occasions, ongoing status...\n",
    "\n",
    "### Users\n",
    "Everyone who loves traveling\n",
    "\n",
    "### Use Cases\n",
    "1. Real time recommendation: When the user enter the current location (city), return top 10 recommendation from low to high flight ticket price\n",
    "2. In a certain timeframe, recommend top 10 traveling location from current location\n",
    "3. Given a destination, return the rank of months to travel from current location"
   ]
  },
  {
   "cell_type": "code",
   "execution_count": 25,
   "metadata": {},
   "outputs": [],
   "source": [
    "# Build a web scraping bot for best ticket price based on Kayak\n",
    "\n",
    "from time import sleep, strftime\n",
    "from random import randint\n",
    "import pandas as pd\n",
    "from selenium import webdriver\n",
    "from selenium.webdriver.common.keys import Keys"
   ]
  },
  {
   "cell_type": "code",
   "execution_count": 26,
   "metadata": {},
   "outputs": [],
   "source": [
    "# Use Chromedriver to open Chrome\n",
    "\n",
    "chromedriver_path = '/usr/local/Caskroom/chromedriver/83.0.4103.39/chromedriver'\n",
    "driver = webdriver.Chrome(executable_path=chromedriver_path) # This will open the Chrome window\n",
    "sleep(2)"
   ]
  },
  {
   "cell_type": "code",
   "execution_count": 27,
   "metadata": {},
   "outputs": [],
   "source": [
    "# Define page scraping function\n",
    "\n",
    "def page_scrape():\n",
    "    \"\"\"This is the function that does the scraping!\"\"\"\n",
    "    \n",
    "    xp_sections = '(//*[@class=\"section duration allow-multi-modal-icons\"])[position()<5]'\n",
    "    sections = driver.find_elements_by_xpath(xp_sections)\n",
    "    sections_list = [value.text for value in sections]\n",
    "    section_a_list = sections_list[::2]  # This is to separate the two flights\n",
    "    section_b_list = sections_list[1::2] # This is to separate the two flights\n",
    "    \n",
    "    # If running into reCaptcha, add a sleep\n",
    "    # If returned an empty list, use SystemExit, to test everything from the start\n",
    "    if section_a_list == []:\n",
    "        raise SystemExit\n",
    "        \n",
    "    # letter A for outbound flight; letter B for inbound flight\n",
    "    a_duration = []\n",
    "    a_section_names = []\n",
    "    for n in section_a_list:\n",
    "        # Separate time from the cities\n",
    "        a_section_names.append(''.join(n.split()[2:5]))\n",
    "        a_duration.append(''.join(n.split()[0:2]))\n",
    "    b_duration = []\n",
    "    b_section_names = []\n",
    "    for n in section_b_list:\n",
    "        # Separate time from the cities\n",
    "        b_section_names.append(''.join(n.split()[2:5]))\n",
    "        b_duration.append(''.join(n.split()[0:2]))\n",
    "        \n",
    "    xp_dates = '(//div[@class=\"section date\"])[position()<5]'\n",
    "    dates = driver.find_elements_by_xpath(xp_dates)\n",
    "    dates_list = [value.text for value in dates]\n",
    "    a_date_list = dates_list[::2]\n",
    "    b_date_list = dates_list[1::2]\n",
    "    # Separate the weekday from the day\n",
    "    a_day = [value.split()[0] for value in a_date_list]\n",
    "    a_weekday = [value.split()[1] for value in a_date_list]\n",
    "    b_day = [value.split()[0] for value in b_date_list]\n",
    "    b_weekday = [value.split()[1] for value in b_date_list]\n",
    "    \n",
    "    # Get the prices\n",
    "    xp_prices = '(//span[contains(@id,\"price-text\") and contains(@class,\"price-text\")])[position()<5]'\n",
    "    prices = driver.find_elements_by_xpath(xp_prices)\n",
    "    prices_list = [price.text.replace('$', '') for price in prices if price.text != '']\n",
    "    prices_list = list(map(int, prices_list))\n",
    "    \n",
    "    # The stops are a big list with one leg at the even index and second leg on odd index\n",
    "    xp_stops = '(//div[@class=\"section stops\"]/div[1])[position()<5]'\n",
    "    stops = driver.find_elements_by_xpath(xp_stops)\n",
    "    stops_list = [stop.text[0].replace('n', '0') for stop in stops]\n",
    "    a_stop_list = stops_list[::2]\n",
    "    b_stop_list = stops_list[1::2]\n",
    "    \n",
    "    xp_stops_cities = '(//div[@class=\"section stops\"]/div[2])[position()<5]'\n",
    "    stops_cities = driver.find_elements_by_xpath(xp_stops_cities)\n",
    "    stops_cities_list = [stop.text for stop in stops_cities]\n",
    "    a_stop_name_list = stops_cities_list[::2]\n",
    "    b_stop_name_list = stops_cities_list[1::2]\n",
    "    \n",
    "    # This part gets the airline company and the departure and arrival times for both legs\n",
    "    xp_schedule = '(//div[@class=\"section times\"])[position()<5]'\n",
    "    schedules = driver.find_elements_by_xpath(xp_schedule)\n",
    "    hours_list = []\n",
    "    carrier_list = []\n",
    "    for schedule in schedules:\n",
    "        hours_list.append(schedule.text.split('\\n')[0])\n",
    "        carrier_list.append(schedule.text.split('\\n')[1])\n",
    "    # Split the hours and carriers, between a and b legs\n",
    "    a_hours = hours_list[::2]\n",
    "    a_carrier = carrier_list[::2]\n",
    "    b_hours = hours_list[1::2]\n",
    "    b_carrier = carrier_list[1::2]\n",
    "    \n",
    "    # Create dataframe\n",
    "    cols = (['Out Day', 'Out Time', 'Out Weekday', 'Out Airline', 'Out Cities', 'Out Duration', 'Out Stops', 'Out Stop Cities',\n",
    "            'Return Day', 'Return Time', 'Return Weekday', 'Return Airline', 'Return Cities', 'Return Duration', 'Return Stops', 'Return Stop Cities',\n",
    "            'Price'])\n",
    "    \n",
    "    flights_df = pd.DataFrame({'Out Day': a_day,\n",
    "                               'Out Weekday': a_weekday,\n",
    "                               'Out Duration': a_duration,\n",
    "                               'Out Cities': a_section_names,\n",
    "                               'Return Day': b_day,\n",
    "                               'Return Weekday': b_weekday,\n",
    "                               'Return Duration': b_duration,\n",
    "                               'Return Cities': b_section_names,\n",
    "                               'Out Stops': a_stop_list,\n",
    "                               'Out Stop Cities': a_stop_name_list,\n",
    "                               'Return Stops': b_stop_list,\n",
    "                               'Return Stop Cities': b_stop_name_list,\n",
    "                               'Out Time': a_hours,\n",
    "                               'Out Airline': a_carrier,\n",
    "                               'Return Time': b_hours,\n",
    "                               'Return Airline': b_carrier,\n",
    "                               'Price': prices_list[:2]})[cols]\n",
    "    \n",
    "    flights_df['timestamp'] = strftime(\"%Y%m%d-%H%M\") # so we can know when it was scraped\n",
    "    return flights_df"
   ]
  },
  {
   "cell_type": "code",
   "execution_count": 28,
   "metadata": {},
   "outputs": [],
   "source": [
    "# Call Kayak\n",
    "\n",
    "def start_kayak(city_from, city_to, date_start, date_end):\n",
    "    \"\"\"City codes - it's IATA codes!\n",
    "       Date format - YYYY-MM-DD\"\"\"\n",
    "    \n",
    "    kayak = 'http://www.kayak.com/flights/' + city_from + '-' + city_to + '/' + date_start + '-flexible/' + date_end + '-flexible?sort=bestflight_a'\n",
    "    driver.get(kayak)\n",
    "    sleep(randint(8,10))\n",
    "    \n",
    "    # Sometimes a popup shows up, so we can use a try statement to check it and close\n",
    "    try:\n",
    "        xp_popup_close = '//button[contains(@id,\"dialog-close\") and contains(@class,\"Button-No-Standard-Style close\")]'\n",
    "        driver.find_elements_by_xpath(xp_popup_close)[8].click()\n",
    "    except Exception as e:\n",
    "        pass\n",
    "    sleep(randint(8,10))\n",
    "    print('loading more...')\n",
    "    \n",
    "    # Scape the \"best\" price\n",
    "    print('starting the first scrape...')\n",
    "    df_flights_best = page_scrape()\n",
    "    df_flights_best['sort'] = 'best'\n",
    "    sleep(randint(60,80))\n",
    "\n",
    "    # Let's also get the lowest prices from the matrix on top\n",
    "#    matrix = driver.find_elements_by_xpath('//*[contains(@id,\"FlexMatrixCell\")]')\n",
    "#    matrix_prices = [price.text.replace('$','') for price in matrix]\n",
    "#    matrix_prices = list(map(int, matrix_prices))\n",
    "#    matrix_min = min(matrix_prices)\n",
    "#    matrix_avg = sum(matrix_prices)/len(matrix_prices)\n",
    "    \n",
    "    print(df_flights_best)"
   ]
  },
  {
   "cell_type": "code",
   "execution_count": 10,
   "metadata": {},
   "outputs": [
    {
     "name": "stdout",
     "output_type": "stream",
     "text": [
      "loading more...\n",
      "starting the first scrape...\n",
      "  Out Day              Out Time Out Weekday      Out Airline Out Cities  \\\n",
      "0    7/11  9:30 pm – 6:15 am +1         Sat              Bus    SFO‐LAX   \n",
      "1    7/13    12:40 pm – 2:19 pm         Mon  Alaska Airlines    SFO‐LAX   \n",
      "\n",
      "  Out Duration Out Stops Out Stop Cities Return Day            Return Time  \\\n",
      "0        8h45m         0                       7/13  11:50 pm – 8:15 am +1   \n",
      "1        1h39m         0                       7/13      5:20 pm – 6:43 pm   \n",
      "\n",
      "  Return Weekday   Return Airline Return Cities Return Duration Return Stops  \\\n",
      "0            Mon              Bus       LAX‐SFO           8h25m            0   \n",
      "1            Mon  Alaska Airlines       LAX‐SFO           1h23m            0   \n",
      "\n",
      "  Return Stop Cities  Price      timestamp  sort  \n",
      "0                       132  20200710-1505  best  \n",
      "1                       221  20200710-1505  best  \n"
     ]
    }
   ],
   "source": [
    "# Testing\n",
    "\n",
    "# city_from = input('From which city? ')\n",
    "# city_to = input('Where to? ')\n",
    "# date_start = input('Search around which departure date? Please use YYYY-MM-DD format only ')\n",
    "# date_end = input('Return when? Please use YYYY-MM-DD format only ')\n",
    "\n",
    "city_from = 'SFO'\n",
    "city_to = 'LAX'\n",
    "date_start = '2020-07-10'\n",
    "date_end = '2020-07-12'\n",
    "\n",
    "start_kayak(city_from, city_to, date_start, date_end)\n"
   ]
  },
  {
   "cell_type": "code",
   "execution_count": 29,
   "metadata": {},
   "outputs": [
    {
     "name": "stdout",
     "output_type": "stream",
     "text": [
      "loading more...\n",
      "starting the first scrape...\n"
     ]
    },
    {
     "ename": "IndexError",
     "evalue": "list index out of range",
     "output_type": "error",
     "traceback": [
      "\u001b[0;31m---------------------------------------------------------------------------\u001b[0m",
      "\u001b[0;31mIndexError\u001b[0m                                Traceback (most recent call last)",
      "\u001b[0;32m<ipython-input-29-f316fb29f46c>\u001b[0m in \u001b[0;36m<module>\u001b[0;34m\u001b[0m\n\u001b[1;32m     11\u001b[0m \u001b[0;34m\u001b[0m\u001b[0m\n\u001b[1;32m     12\u001b[0m \u001b[0;32mfor\u001b[0m \u001b[0mcode\u001b[0m \u001b[0;32min\u001b[0m \u001b[0mairports_code\u001b[0m\u001b[0;34m:\u001b[0m\u001b[0;34m\u001b[0m\u001b[0;34m\u001b[0m\u001b[0m\n\u001b[0;32m---> 13\u001b[0;31m     \u001b[0mdf\u001b[0m \u001b[0;34m=\u001b[0m \u001b[0mstart_kayak\u001b[0m\u001b[0;34m(\u001b[0m\u001b[0mmy_airport\u001b[0m\u001b[0;34m,\u001b[0m \u001b[0mcode\u001b[0m\u001b[0;34m,\u001b[0m \u001b[0mdepart_date\u001b[0m\u001b[0;34m,\u001b[0m \u001b[0mreturn_date\u001b[0m\u001b[0;34m)\u001b[0m\u001b[0;34m\u001b[0m\u001b[0;34m\u001b[0m\u001b[0m\n\u001b[0m\u001b[1;32m     14\u001b[0m     \u001b[0mdf\u001b[0m\u001b[0;34m[\u001b[0m\u001b[0;34m'Destination'\u001b[0m\u001b[0;34m]\u001b[0m \u001b[0;34m=\u001b[0m \u001b[0mcode\u001b[0m\u001b[0;34m\u001b[0m\u001b[0;34m\u001b[0m\u001b[0m\n\u001b[1;32m     15\u001b[0m     \u001b[0mprint\u001b[0m\u001b[0;34m(\u001b[0m\u001b[0mdf\u001b[0m\u001b[0;34m)\u001b[0m\u001b[0;34m\u001b[0m\u001b[0;34m\u001b[0m\u001b[0m\n",
      "\u001b[0;32m<ipython-input-28-0038437a7eb4>\u001b[0m in \u001b[0;36mstart_kayak\u001b[0;34m(city_from, city_to, date_start, date_end)\u001b[0m\n\u001b[1;32m     20\u001b[0m     \u001b[0;31m# Scape the \"best\" price\u001b[0m\u001b[0;34m\u001b[0m\u001b[0;34m\u001b[0m\u001b[0;34m\u001b[0m\u001b[0m\n\u001b[1;32m     21\u001b[0m     \u001b[0mprint\u001b[0m\u001b[0;34m(\u001b[0m\u001b[0;34m'starting the first scrape...'\u001b[0m\u001b[0;34m)\u001b[0m\u001b[0;34m\u001b[0m\u001b[0;34m\u001b[0m\u001b[0m\n\u001b[0;32m---> 22\u001b[0;31m     \u001b[0mdf_flights_best\u001b[0m \u001b[0;34m=\u001b[0m \u001b[0mpage_scrape\u001b[0m\u001b[0;34m(\u001b[0m\u001b[0;34m)\u001b[0m\u001b[0;34m\u001b[0m\u001b[0;34m\u001b[0m\u001b[0m\n\u001b[0m\u001b[1;32m     23\u001b[0m     \u001b[0mdf_flights_best\u001b[0m\u001b[0;34m[\u001b[0m\u001b[0;34m'sort'\u001b[0m\u001b[0;34m]\u001b[0m \u001b[0;34m=\u001b[0m \u001b[0;34m'best'\u001b[0m\u001b[0;34m\u001b[0m\u001b[0;34m\u001b[0m\u001b[0m\n\u001b[1;32m     24\u001b[0m     \u001b[0msleep\u001b[0m\u001b[0;34m(\u001b[0m\u001b[0mrandint\u001b[0m\u001b[0;34m(\u001b[0m\u001b[0;36m60\u001b[0m\u001b[0;34m,\u001b[0m\u001b[0;36m80\u001b[0m\u001b[0;34m)\u001b[0m\u001b[0;34m)\u001b[0m\u001b[0;34m\u001b[0m\u001b[0;34m\u001b[0m\u001b[0m\n",
      "\u001b[0;32m<ipython-input-27-ea1e8433f2c4>\u001b[0m in \u001b[0;36mpage_scrape\u001b[0;34m()\u001b[0m\n\u001b[1;32m     35\u001b[0m     \u001b[0mb_date_list\u001b[0m \u001b[0;34m=\u001b[0m \u001b[0mdates_list\u001b[0m\u001b[0;34m[\u001b[0m\u001b[0;36m1\u001b[0m\u001b[0;34m:\u001b[0m\u001b[0;34m:\u001b[0m\u001b[0;36m2\u001b[0m\u001b[0;34m]\u001b[0m\u001b[0;34m\u001b[0m\u001b[0;34m\u001b[0m\u001b[0m\n\u001b[1;32m     36\u001b[0m     \u001b[0;31m# Separate the weekday from the day\u001b[0m\u001b[0;34m\u001b[0m\u001b[0;34m\u001b[0m\u001b[0;34m\u001b[0m\u001b[0m\n\u001b[0;32m---> 37\u001b[0;31m     \u001b[0ma_day\u001b[0m \u001b[0;34m=\u001b[0m \u001b[0;34m[\u001b[0m\u001b[0mvalue\u001b[0m\u001b[0;34m.\u001b[0m\u001b[0msplit\u001b[0m\u001b[0;34m(\u001b[0m\u001b[0;34m)\u001b[0m\u001b[0;34m[\u001b[0m\u001b[0;36m0\u001b[0m\u001b[0;34m]\u001b[0m \u001b[0;32mfor\u001b[0m \u001b[0mvalue\u001b[0m \u001b[0;32min\u001b[0m \u001b[0ma_date_list\u001b[0m\u001b[0;34m]\u001b[0m\u001b[0;34m\u001b[0m\u001b[0;34m\u001b[0m\u001b[0m\n\u001b[0m\u001b[1;32m     38\u001b[0m     \u001b[0ma_weekday\u001b[0m \u001b[0;34m=\u001b[0m \u001b[0;34m[\u001b[0m\u001b[0mvalue\u001b[0m\u001b[0;34m.\u001b[0m\u001b[0msplit\u001b[0m\u001b[0;34m(\u001b[0m\u001b[0;34m)\u001b[0m\u001b[0;34m[\u001b[0m\u001b[0;36m1\u001b[0m\u001b[0;34m]\u001b[0m \u001b[0;32mfor\u001b[0m \u001b[0mvalue\u001b[0m \u001b[0;32min\u001b[0m \u001b[0ma_date_list\u001b[0m\u001b[0;34m]\u001b[0m\u001b[0;34m\u001b[0m\u001b[0;34m\u001b[0m\u001b[0m\n\u001b[1;32m     39\u001b[0m     \u001b[0mb_day\u001b[0m \u001b[0;34m=\u001b[0m \u001b[0;34m[\u001b[0m\u001b[0mvalue\u001b[0m\u001b[0;34m.\u001b[0m\u001b[0msplit\u001b[0m\u001b[0;34m(\u001b[0m\u001b[0;34m)\u001b[0m\u001b[0;34m[\u001b[0m\u001b[0;36m0\u001b[0m\u001b[0;34m]\u001b[0m \u001b[0;32mfor\u001b[0m \u001b[0mvalue\u001b[0m \u001b[0;32min\u001b[0m \u001b[0mb_date_list\u001b[0m\u001b[0;34m]\u001b[0m\u001b[0;34m\u001b[0m\u001b[0;34m\u001b[0m\u001b[0m\n",
      "\u001b[0;32m<ipython-input-27-ea1e8433f2c4>\u001b[0m in \u001b[0;36m<listcomp>\u001b[0;34m(.0)\u001b[0m\n\u001b[1;32m     35\u001b[0m     \u001b[0mb_date_list\u001b[0m \u001b[0;34m=\u001b[0m \u001b[0mdates_list\u001b[0m\u001b[0;34m[\u001b[0m\u001b[0;36m1\u001b[0m\u001b[0;34m:\u001b[0m\u001b[0;34m:\u001b[0m\u001b[0;36m2\u001b[0m\u001b[0;34m]\u001b[0m\u001b[0;34m\u001b[0m\u001b[0;34m\u001b[0m\u001b[0m\n\u001b[1;32m     36\u001b[0m     \u001b[0;31m# Separate the weekday from the day\u001b[0m\u001b[0;34m\u001b[0m\u001b[0;34m\u001b[0m\u001b[0;34m\u001b[0m\u001b[0m\n\u001b[0;32m---> 37\u001b[0;31m     \u001b[0ma_day\u001b[0m \u001b[0;34m=\u001b[0m \u001b[0;34m[\u001b[0m\u001b[0mvalue\u001b[0m\u001b[0;34m.\u001b[0m\u001b[0msplit\u001b[0m\u001b[0;34m(\u001b[0m\u001b[0;34m)\u001b[0m\u001b[0;34m[\u001b[0m\u001b[0;36m0\u001b[0m\u001b[0;34m]\u001b[0m \u001b[0;32mfor\u001b[0m \u001b[0mvalue\u001b[0m \u001b[0;32min\u001b[0m \u001b[0ma_date_list\u001b[0m\u001b[0;34m]\u001b[0m\u001b[0;34m\u001b[0m\u001b[0;34m\u001b[0m\u001b[0m\n\u001b[0m\u001b[1;32m     38\u001b[0m     \u001b[0ma_weekday\u001b[0m \u001b[0;34m=\u001b[0m \u001b[0;34m[\u001b[0m\u001b[0mvalue\u001b[0m\u001b[0;34m.\u001b[0m\u001b[0msplit\u001b[0m\u001b[0;34m(\u001b[0m\u001b[0;34m)\u001b[0m\u001b[0;34m[\u001b[0m\u001b[0;36m1\u001b[0m\u001b[0;34m]\u001b[0m \u001b[0;32mfor\u001b[0m \u001b[0mvalue\u001b[0m \u001b[0;32min\u001b[0m \u001b[0ma_date_list\u001b[0m\u001b[0;34m]\u001b[0m\u001b[0;34m\u001b[0m\u001b[0;34m\u001b[0m\u001b[0m\n\u001b[1;32m     39\u001b[0m     \u001b[0mb_day\u001b[0m \u001b[0;34m=\u001b[0m \u001b[0;34m[\u001b[0m\u001b[0mvalue\u001b[0m\u001b[0;34m.\u001b[0m\u001b[0msplit\u001b[0m\u001b[0;34m(\u001b[0m\u001b[0;34m)\u001b[0m\u001b[0;34m[\u001b[0m\u001b[0;36m0\u001b[0m\u001b[0;34m]\u001b[0m \u001b[0;32mfor\u001b[0m \u001b[0mvalue\u001b[0m \u001b[0;32min\u001b[0m \u001b[0mb_date_list\u001b[0m\u001b[0;34m]\u001b[0m\u001b[0;34m\u001b[0m\u001b[0;34m\u001b[0m\u001b[0m\n",
      "\u001b[0;31mIndexError\u001b[0m: list index out of range"
     ]
    }
   ],
   "source": [
    "# Iterating through airports\n",
    "\n",
    "#def iteration(my_airport, depart_date, return_date):\n",
    "#    \"\"\"This is where users enter their local airport!\"\"\"\n",
    "my_airport = 'SFO'\n",
    "depart_date = '2020-07-10'\n",
    "return_date = '2020-07-12'\n",
    "\n",
    "airports = pd.read_csv('airport_data.csv')\n",
    "airports_code = airports['IATA']\n",
    "    \n",
    "for code in airports_code:\n",
    "    df = start_kayak(my_airport, code, depart_date, return_date)\n",
    "    df['Destination'] = code\n",
    "    print(df)"
   ]
  },
  {
   "cell_type": "code",
   "execution_count": 10,
   "metadata": {},
   "outputs": [
    {
     "name": "stdout",
     "output_type": "stream",
     "text": [
      "loading more...\n",
      "[132, 221]\n"
     ]
    }
   ],
   "source": [
    "# debugging area\n",
    "\n",
    "chromedriver_path = '/usr/local/Caskroom/chromedriver/83.0.4103.39/chromedriver'\n",
    "driver = webdriver.Chrome(executable_path=chromedriver_path) # This will open the Chrome window\n",
    "sleep(2)\n",
    "\n",
    "kayak = 'https://www.kayak.com/flights/SFO-LAX/2020-07-10-flexible/2020-07-12-flexible?sort=bestflight_a'\n",
    "driver.get(kayak)\n",
    "sleep(randint(8,10))\n",
    "\n",
    "try:\n",
    "    xp_popup_close = '//button[contains(@id,\"dialog-close\") and contains(@class,\"Button-No-Standard-Style close\")]'\n",
    "    driver.find_elements_by_xpath(xp_popup_close)[8].click()\n",
    "except Exception as e:\n",
    "    pass\n",
    "sleep(randint(8,10))\n",
    "print('loading more...')\n",
    "    \n",
    "xp_prices = '(//span[contains(@id,\"price-text\") and contains(@class,\"price-text\")])[position()<5]'\n",
    "prices = driver.find_elements_by_xpath(xp_prices)\n",
    "prices_list = [price.text.replace('$','') for price in prices if price.text != '']\n",
    "prices_list = list(map(int, prices_list))\n",
    "\n",
    "print(prices_list[:2])"
   ]
  },
  {
   "cell_type": "code",
   "execution_count": 19,
   "metadata": {},
   "outputs": [
    {
     "name": "stdout",
     "output_type": "stream",
     "text": [
      "0      BHM\n",
      "1      ANC\n",
      "2      PHX\n",
      "3      TUS\n",
      "4      LIT\n",
      "      ... \n",
      "98     PPG\n",
      "99     GUM\n",
      "100    SPN\n",
      "101    SJU\n",
      "102    STT\n",
      "Name: IATA, Length: 103, dtype: object\n"
     ]
    }
   ],
   "source": [
    "airports = pd.read_csv('airport_data.csv')\n",
    "print(airports['IATA'])"
   ]
  },
  {
   "cell_type": "code",
   "execution_count": null,
   "metadata": {},
   "outputs": [],
   "source": []
  }
 ],
 "metadata": {
  "kernelspec": {
   "display_name": "Python 3",
   "language": "python",
   "name": "python3"
  },
  "language_info": {
   "codemirror_mode": {
    "name": "ipython",
    "version": 3
   },
   "file_extension": ".py",
   "mimetype": "text/x-python",
   "name": "python",
   "nbconvert_exporter": "python",
   "pygments_lexer": "ipython3",
   "version": "3.7.6"
  }
 },
 "nbformat": 4,
 "nbformat_minor": 4
}
